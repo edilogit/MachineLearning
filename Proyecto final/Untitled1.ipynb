{
 "cells": [
  {
   "cell_type": "code",
   "execution_count": 14,
   "metadata": {},
   "outputs": [],
   "source": [
    "import numpy as np\n",
    "import pandas as pd\n",
    "import matplotlib.pyplot as plt\n",
    "from sklearn import datasets\n",
    "import seaborn as sns\n",
    "from sklearn import linear_model\n",
    "from sklearn import preprocessing\n",
    "import warnings\n",
    "warnings.filterwarnings('ignore')\n",
    "from sklearn.externals import joblib\n",
    "from sklearn import tree\n",
    "from sklearn.tree import DecisionTreeClassifier"
   ]
  },
  {
   "cell_type": "markdown",
   "metadata": {},
   "source": [
    "## Proyecto Final Statistical Learning\n",
    "### Parte 2: Deployment, Inferencia y Seleccion"
   ]
  },
  {
   "cell_type": "code",
   "execution_count": 21,
   "metadata": {},
   "outputs": [],
   "source": [
    "## se cargan los modelos elegidos los cuales son Naive-Bayes y SVM penalty=1 kernel=rbf\n",
    "\n",
    "svm_model = joblib.load('SVM_Penalty_1_kernel_rbf_degree_1_train')\n",
    "nb_model = joblib.load('NBayes_lr=0.01_reg=0.1_train')\n",
    "\n",
    "x_test = pd.read_csv('10pruebas.csv')\n"
   ]
  },
  {
   "cell_type": "code",
   "execution_count": 19,
   "metadata": {},
   "outputs": [
    {
     "data": {
      "text/plain": [
       "[Text(200.88000000000002, 190.26, 'X[0] <= 477.09\\nentropy = 0.18\\nsamples = 10\\nvalue = [1, 9]'),\n",
       " Text(133.92000000000002, 135.9, 'X[7] <= 0.961\\nentropy = 0.32\\nsamples = 5\\nvalue = [1, 4]'),\n",
       " Text(66.96000000000001, 81.53999999999999, 'entropy = 0.0\\nsamples = 3\\nvalue = [0, 3]'),\n",
       " Text(200.88000000000002, 81.53999999999999, 'X[6] <= 0.94\\nentropy = 0.5\\nsamples = 2\\nvalue = [1, 1]'),\n",
       " Text(133.92000000000002, 27.180000000000007, 'entropy = 0.0\\nsamples = 1\\nvalue = [0, 1]'),\n",
       " Text(267.84000000000003, 27.180000000000007, 'entropy = 0.0\\nsamples = 1\\nvalue = [1, 0]'),\n",
       " Text(267.84000000000003, 135.9, 'entropy = 0.0\\nsamples = 5\\nvalue = [0, 5]')]"
      ]
     },
     "execution_count": 19,
     "metadata": {},
     "output_type": "execute_result"
    },
    {
     "data": {
      "image/png": "[encoded data removed]",
      "text/plain": [
       "<Figure size 432x288 with 1 Axes>"
      ]
     },
     "metadata": {
      "needs_background": "light"
     },
     "output_type": "display_data"
    }
   ],
   "source": [
    "### Grafo del arbol de decision\n",
    "DecisionTree_model = joblib.load('DecTree_sort_true_splitter_random_train')\n",
    "y_test = DecisionTree_model.predict(x_test)  \n",
    "tree.plot_tree(DecisionTree_model.fit(x_test,y_test)) "
   ]
  },
  {
   "cell_type": "code",
   "execution_count": 60,
   "metadata": {},
   "outputs": [],
   "source": [
    "def Predecir(model,test_data):       \n",
    "    y_pred = model.predict(test_data)\n",
    "    dict = {0: 'Died', 1: 'Survived'}\n",
    "    result= y_pred[0]\n",
    "    print(dict.get(result))\n",
    "    return 1"
   ]
  },
  {
   "cell_type": "code",
   "execution_count": 61,
   "metadata": {},
   "outputs": [
    {
     "name": "stdout",
     "output_type": "stream",
     "text": [
      "Survived\n",
      "Survived\n",
      "Survived\n",
      "Survived\n",
      "Survived\n",
      "Died\n",
      "Died\n",
      "Died\n",
      "Survived\n",
      "Survived\n"
     ]
    },
    {
     "data": {
      "text/plain": [
       "1"
      ]
     },
     "execution_count": 61,
     "metadata": {},
     "output_type": "execute_result"
    }
   ],
   "source": [
    "### Grafo del Naive Bayes\n",
    "ds1=x_test.iloc[[0]]\n",
    "Predecir(nb_model,ds1)\n",
    "\n",
    "ds1=x_test.iloc[[1]]\n",
    "Predecir(nb_model,ds1)\n",
    "\n",
    "ds1=x_test.iloc[[2]]\n",
    "Predecir(nb_model,ds1)\n",
    "\n",
    "ds1=x_test.iloc[[3]]\n",
    "Predecir(nb_model,ds1)\n",
    "\n",
    "ds1=x_test.iloc[[4]]\n",
    "Predecir(nb_model,ds1)\n",
    "\n",
    "ds1=x_test.iloc[[5]]\n",
    "Predecir(nb_model,ds1)\n",
    "\n",
    "ds1=x_test.iloc[[6]]\n",
    "Predecir(nb_model,ds1)\n",
    "\n",
    "ds1=x_test.iloc[[7]]\n",
    "Predecir(nb_model,ds1)\n",
    "\n",
    "ds1=x_test.iloc[[8]]\n",
    "Predecir(nb_model,ds1)\n",
    "\n",
    "ds1=x_test.iloc[[9]]\n",
    "Predecir(nb_model,ds1)"
   ]
  },
  {
   "cell_type": "code",
   "execution_count": null,
   "metadata": {},
   "outputs": [],
   "source": []
  }
 ],
 "metadata": {
  "kernelspec": {
   "display_name": "Python 3",
   "language": "python",
   "name": "python3"
  },
  "language_info": {
   "codemirror_mode": {
    "name": "ipython",
    "version": 3
   },
   "file_extension": ".py",
   "mimetype": "text/x-python",
   "name": "python",
   "nbconvert_exporter": "python",
   "pygments_lexer": "ipython3",
   "version": "3.7.2"
  }
 },
 "nbformat": 4,
 "nbformat_minor": 2
}
