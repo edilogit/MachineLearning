{
 "cells": [
  {
   "cell_type": "markdown",
   "metadata": {},
   "source": [
    "## TAREA 1  TENSORFLOW \n",
    "### Eduardo Lopez Ayala  Carnet: 19000477"
   ]
  },
  {
   "cell_type": "code",
   "execution_count": 2,
   "metadata": {},
   "outputs": [],
   "source": [
    "# Import `tensorflow`\n",
    "import tensorflow as tf\n",
    "import numpy as np"
   ]
  },
  {
   "cell_type": "code",
   "execution_count": 3,
   "metadata": {},
   "outputs": [
    {
     "name": "stdout",
     "output_type": "stream",
     "text": [
      "1168.0\n",
      "292.0\n",
      "1460\n",
      "8760\n",
      "7008\n",
      "1752\n"
     ]
    }
   ],
   "source": [
    "#Del proyecto anterior se toman los datos de entrenamiento y validacion, se separan en dos\n",
    "data=np.load('proyecto_training_data.npy')\n",
    "size = len(data)\n",
    "#training dataset\n",
    "tr = data[:int(0.80*size) ]\n",
    "val=data[int(0.80*size) :]\n",
    "\n",
    "print(0.80*size)\n",
    "print(0.20*size)\n",
    "\n"
   ]
  },
  {
   "cell_type": "markdown",
   "metadata": {},
   "source": [
    "### Aqui inicio con el desarrollo de la tarea, incialmente creo un grafo para denotar los parametros constantes y  los variables que seran nuestros estimadores"
   ]
  },
  {
   "cell_type": "code",
   "execution_count": 36,
   "metadata": {},
   "outputs": [],
   "source": [
    "grafo = tf.Graph()\n",
    "with grafo.as_default():\n",
    "    #x1 = tf.placeholder(tf.float32)\n",
    "    #y1 = tf.placeholder(tf.float32)\n",
    "    \n",
    "    #obtengo el numero de lineas del recordset que usaremos para pruebas    \n",
    "    samples= int(0.80*size)\n",
    "    \n",
    "        #placeholder:\n",
    "    ph_lr = tf.placeholder(dtype = tf.float64) \n",
    "    \n",
    "    y1 = tf.constant(np.float32(np.reshape(tr[:,0],(samples,1))))\n",
    "    x1 = tf.constant(np.float32(np.reshape(tr[:,1],(samples,1))))\n",
    "    \n",
    "    var_m = tf.Variable(0.0, name=\"m\")\n",
    "    var_b = tf.Variable(0.0, name=\"b\")\n",
    "    \n",
    "    yhat = tf.add(tf.multiply(x1, var_m), var_b)\n",
    "    \n",
    "    #costo\n",
    "    err = (tf.reduce_mean((y1-yhat)**2)) / 0.5\n",
    "    \n",
    "            ##para tensorboard\n",
    "    Summary1st = tf.summary.scalar(name='1st._Summary_Escalar', tensor=err)\n",
    "    \n",
    "    \n",
    "    #gradient descent\n",
    "    \n",
    "    \n"
   ]
  },
  {
   "cell_type": "markdown",
   "metadata": {},
   "source": [
    "### Se inician los ciclos para crear sesiones de validacion con Learning Rate 5.0"
   ]
  },
  {
   "cell_type": "code",
   "execution_count": 47,
   "metadata": {},
   "outputs": [
    {
     "name": "stdout",
     "output_type": "stream",
     "text": [
      "Inicializado\n",
      "Iteracion: 0 Error: 77638910000.0 VALOR_M: 23758956.0 VALOR_B: 3611805.0\n",
      "Iteracion: 2 Error: 2.9582232e+22 VALOR_M: 15194312000000.0 VALOR_B: 2372533700000.0\n",
      "Iteracion: 4 Error: 1.2144199e+34 VALOR_M: 9.735317e+18 VALOR_B: 1.5201317e+18\n",
      "Iteracion: 6 Error: inf VALOR_M: 6.2376016e+24 VALOR_B: 9.739808e+23\n",
      "Iteracion: 8 Error: inf VALOR_M: 3.9965728e+30 VALOR_B: 6.2404993e+29\n",
      "Iteracion: 10 Error: inf VALOR_M: 2.560688e+36 VALOR_B: 3.998417e+35\n",
      "Iteracion: 12 Error: inf VALOR_M: nan VALOR_B: inf\n",
      "Iteracion: 14 Error: nan VALOR_M: nan VALOR_B: nan\n",
      "Iteracion: 16 Error: nan VALOR_M: nan VALOR_B: nan\n",
      "Iteracion: 18 Error: nan VALOR_M: nan VALOR_B: nan\n",
      "Iteracion: 20 Error: nan VALOR_M: nan VALOR_B: nan\n",
      "Iteracion: 22 Error: nan VALOR_M: nan VALOR_B: nan\n",
      "Iteracion: 24 Error: nan VALOR_M: nan VALOR_B: nan\n",
      "Iteracion: 26 Error: nan VALOR_M: nan VALOR_B: nan\n",
      "Iteracion: 28 Error: nan VALOR_M: nan VALOR_B: nan\n"
     ]
    }
   ],
   "source": [
    "    num_steps = 30\n",
    "    with tf.Session(graph = grafo) as session:\n",
    "        optimizer = tf.train.GradientDescentOptimizer(5.00).minimize(err)\n",
    "        tf.global_variables_initializer().run()\n",
    "        print('Inicializado')\n",
    "        writer = tf.summary.FileWriter('./graphs', session.graph)\n",
    "        for step in range(num_steps):\n",
    "            #for x,y in zip(x1, y1):\n",
    "            #    session.run(optimizer, dic={X: x, Y: y})\n",
    "            \n",
    "                err1,optimizador=session.run([err,optimizer], feed_dict={ph_lr:5.00})\n",
    "                m=session.run(var_m)\n",
    "                b=session.run(var_b)\n",
    "                \n",
    "                summary = session.run(Summary1st)\n",
    "                writer.add_summary(summary, step)\n",
    "                if not step % 2:\n",
    "                    print(\"Iteracion:\", step, \"Error:\", err1, \"VALOR_M:\", m , \"VALOR_B:\", b)\n",
    "        \n",
    "        writer.close()\n",
    "                            "
   ]
  },
  {
   "cell_type": "code",
   "execution_count": null,
   "metadata": {},
   "outputs": [],
   "source": [
    "### Se inician los ciclos para crear sesiones de validacion con Learning Rate 20.0"
   ]
  },
  {
   "cell_type": "code",
   "execution_count": 48,
   "metadata": {},
   "outputs": [
    {
     "name": "stdout",
     "output_type": "stream",
     "text": [
      "Inicializado\n",
      "Iteracion: 0 Error: 77638910000.0 VALOR_M: 95035820.0 VALOR_B: 14447220.0\n",
      "Iteracion: 2 Error: 7.6014686e+24 VALOR_M: 975171250000000.0 VALOR_B: 152269270000000.0\n",
      "Iteracion: 4 Error: inf VALOR_M: 1.0015748e+22 VALOR_B: 1.5639207e+21\n",
      "Iteracion: 6 Error: inf VALOR_M: 1.0286923e+29 VALOR_B: 1.6062618e+28\n",
      "Iteracion: 8 Error: inf VALOR_M: 1.0565455e+36 VALOR_B: 1.649753e+35\n",
      "Iteracion: 10 Error: inf VALOR_M: nan VALOR_B: nan\n",
      "Iteracion: 12 Error: nan VALOR_M: nan VALOR_B: nan\n",
      "Iteracion: 14 Error: nan VALOR_M: nan VALOR_B: nan\n",
      "Iteracion: 16 Error: nan VALOR_M: nan VALOR_B: nan\n",
      "Iteracion: 18 Error: nan VALOR_M: nan VALOR_B: nan\n",
      "Iteracion: 20 Error: nan VALOR_M: nan VALOR_B: nan\n",
      "Iteracion: 22 Error: nan VALOR_M: nan VALOR_B: nan\n",
      "Iteracion: 24 Error: nan VALOR_M: nan VALOR_B: nan\n",
      "Iteracion: 26 Error: nan VALOR_M: nan VALOR_B: nan\n",
      "Iteracion: 28 Error: nan VALOR_M: nan VALOR_B: nan\n"
     ]
    }
   ],
   "source": [
    "    num_steps = 30\n",
    "    with tf.Session(graph = grafo) as session2:\n",
    "        optimizer = tf.train.GradientDescentOptimizer(20.00).minimize(err)\n",
    "        tf.global_variables_initializer().run()\n",
    "        print('Inicializado')\n",
    "        writer = tf.summary.FileWriter('./graphs_lr20', session2.graph)\n",
    "        for step in range(num_steps):\n",
    "            #for x,y in zip(x1, y1):\n",
    "            #    session.run(optimizer, dic={X: x, Y: y})\n",
    "            \n",
    "                err1,optimizador=session2.run([err,optimizer], feed_dict={ph_lr:20.00})\n",
    "                m=session2.run(var_m)\n",
    "                b=session2.run(var_b)\n",
    "                \n",
    "                summary = session2.run(Summary1st)\n",
    "                writer.add_summary(summary, step)\n",
    "                if not step % 2:\n",
    "                    print(\"Iteracion:\", step, \"Error:\", err1, \"VALOR_M:\", m , \"VALOR_B:\", b)\n",
    "        writer.close()\n",
    "\n",
    "                            "
   ]
  },
  {
   "cell_type": "code",
   "execution_count": null,
   "metadata": {},
   "outputs": [],
   "source": [
    "### Se inician los ciclos para crear sesiones de validacion con Learning Rate 0.01"
   ]
  },
  {
   "cell_type": "code",
   "execution_count": 49,
   "metadata": {},
   "outputs": [
    {
     "name": "stdout",
     "output_type": "stream",
     "text": [
      "Inicializado\n",
      "Iteracion: 0 Error: 77638910000.0 VALOR_M: 47517.91 VALOR_B: 7223.61\n",
      "Iteracion: 2 Error: 15092445000.0 VALOR_M: 36208.355 VALOR_B: 5066.514\n",
      "Iteracion: 4 Error: 6822086700.0 VALOR_M: 32135.18 VALOR_B: 4040.8313\n",
      "Iteracion: 6 Error: 5722978000.0 VALOR_M: 30692.21 VALOR_B: 3427.3203\n",
      "Iteracion: 8 Error: 5571411500.0 VALOR_M: 30205.146 VALOR_B: 2964.539\n",
      "Iteracion: 10 Error: 5545090000.0 VALOR_M: 30065.402 VALOR_B: 2557.454\n",
      "Iteracion: 12 Error: 5535360000.0 VALOR_M: 30051.762 VALOR_B: 2171.5178\n",
      "Iteracion: 14 Error: 5527872000.0 VALOR_M: 30083.82 VALOR_B: 1794.1696\n",
      "Iteracion: 16 Error: 5520725000.0 VALOR_M: 30132.352 VALOR_B: 1420.8403\n",
      "Iteracion: 18 Error: 5513670000.0 VALOR_M: 30186.732 VALOR_B: 1049.8658\n",
      "Iteracion: 20 Error: 5506676000.0 VALOR_M: 30243.096 VALOR_B: 680.6371\n",
      "Iteracion: 22 Error: 5499734000.0 VALOR_M: 30300.041 VALOR_B: 312.92966\n",
      "Iteracion: 24 Error: 5492843500.0 VALOR_M: 30357.062 VALOR_B: -53.340637\n",
      "Iteracion: 26 Error: 5486006000.0 VALOR_M: 30413.973 VALOR_B: -418.20844\n",
      "Iteracion: 28 Error: 5479221000.0 VALOR_M: 30470.707 VALOR_B: -781.6896\n"
     ]
    }
   ],
   "source": [
    "    num_steps = 30\n",
    "    with tf.Session(graph = grafo) as session3:\n",
    "        optimizer = tf.train.GradientDescentOptimizer(0.01).minimize(err)\n",
    "        tf.global_variables_initializer().run()\n",
    "        print('Inicializado')\n",
    "        writer = tf.summary.FileWriter('./graphs_lr01', session3.graph)\n",
    "        for step in range(num_steps):\n",
    "            #for x,y in zip(x1, y1):\n",
    "            #    session.run(optimizer, dic={X: x, Y: y})\n",
    "            \n",
    "                err1,optimizador=session3.run([err,optimizer], feed_dict={ph_lr:0.01})\n",
    "                m=session3.run(var_m)\n",
    "                b=session3.run(var_b)\n",
    "                \n",
    "                summary = session3.run(Summary1st)\n",
    "                writer.add_summary(summary, step)\n",
    "                if not step % 2:\n",
    "                    print(\"Iteracion:\", step, \"Error:\", err1, \"VALOR_M:\", m , \"VALOR_B:\", b)\n",
    "        \n",
    "        writer.close()\n",
    "                            "
   ]
  },
  {
   "cell_type": "markdown",
   "metadata": {},
   "source": [
    "### Conclusiones\n",
    "### En esta tarea intente hacer varias regresiones lineales con diferentes valores de learning_rate, lo que pude observar es que con cada iteracion hay valores de error que se iban hacia infinito o se volvian Nan, esto sucedia con los valores 5.0 y 20.0\n",
    "\n",
    "### solamente con el valor de learning_rate de 0.01 se llenaron todos los valores y el error tenia una tendencia a decrecer, aun asi las graficas no comprendo porque luego de que tienden a disminuir de repente dan un salto hacia arriba y se pierden\n",
    "\n",
    "### Lo que puedo decir por el momento es que el learning_rate que mas me funciono es el 0.01"
   ]
  },
  {
   "cell_type": "code",
   "execution_count": 51,
   "metadata": {},
   "outputs": [
    {
     "name": "stdout",
     "output_type": "stream",
     "text": [
      "The tensorboard.notebook extension is already loaded. To reload it, use:\n",
      "  %reload_ext tensorboard.notebook\n"
     ]
    },
    {
     "data": {
      "text/plain": [
       "Reusing TensorBoard on port 6006 (pid 2652), started 0:02:46 ago. (Use '!kill 2652' to kill it.)"
      ]
     },
     "metadata": {},
     "output_type": "display_data"
    },
    {
     "data": {
      "text/html": [
       "\n",
       "        <iframe\n",
       "            width=\"100%\"\n",
       "            height=\"600\"\n",
       "            src=\"http://localhost:6006\"\n",
       "            frameborder=\"0\"\n",
       "            allowfullscreen\n",
       "        ></iframe>\n",
       "        "
      ],
      "text/plain": [
       "<IPython.lib.display.IFrame at 0x52ff9b0>"
      ]
     },
     "metadata": {},
     "output_type": "display_data"
    }
   ],
   "source": [
    "# Load TENSORBOARD\n",
    "%load_ext tensorboard.notebook\n",
    "# Start TENSORBOARD\n",
    "%tensorboard --logdir './graphs'"
   ]
  },
  {
   "cell_type": "code",
   "execution_count": null,
   "metadata": {},
   "outputs": [],
   "source": []
  }
 ],
 "metadata": {
  "kernelspec": {
   "display_name": "Python 3",
   "language": "python",
   "name": "python3"
  },
  "language_info": {
   "codemirror_mode": {
    "name": "ipython",
    "version": 3
   },
   "file_extension": ".py",
   "mimetype": "text/x-python",
   "name": "python",
   "nbconvert_exporter": "python",
   "pygments_lexer": "ipython3",
   "version": "3.7.2"
  }
 },
 "nbformat": 4,
 "nbformat_minor": 2
}
